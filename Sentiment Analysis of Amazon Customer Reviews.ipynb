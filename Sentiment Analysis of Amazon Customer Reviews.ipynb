{
 "cells": [
  {
   "cell_type": "code",
   "execution_count": 49,
   "id": "215f5c61-7246-402b-b39d-2d5e9374acb5",
   "metadata": {},
   "outputs": [],
   "source": [
    "# Import necessary libraries for tensor computations and deep learning\n",
    "import torch  # PyTorch library for tensor operations and deep learning\n",
    "import torch.nn as nn  # Neural network module for building and training neural networks\n",
    "import torch.optim as optim  # Module that provides optimization algorithms for training models\n",
    "import torchvision  # Library that includes popular datasets, model architectures, and image transformation utilities\n"
   ]
  },
  {
   "cell_type": "code",
   "execution_count": 50,
   "id": "04f50291-1fe5-4af0-9e27-07da32728e0e",
   "metadata": {},
   "outputs": [],
   "source": [
    "# Load MNIST data with specified transformations\n",
    "transform = torchvision.transforms.Compose([\n",
    "    # Convert images to PyTorch tensors\n",
    "    torchvision.transforms.ToTensor(),\n",
    "    # Normalize the tensor images to have a mean of 0.5 and a standard deviation of 0.5\n",
    "    torchvision.transforms.Normalize((0.5,), (0.5,)),\n",
    "])\n"
   ]
  },
  {
   "cell_type": "code",
   "execution_count": 51,
   "id": "b37197a4-657d-48cd-a170-77238621c4fc",
   "metadata": {},
   "outputs": [],
   "source": [
    "# Create training and test datasets for the MNIST dataset\n",
    "mnist_train = torchvision.datasets.MNIST(\n",
    "    'data',         # Directory where the dataset will be stored\n",
    "    train=True,     # Indicates this is the training dataset\n",
    "    download=True,  # Downloads the dataset if it is not already present\n",
    "    transform=transform  # Applies the specified transformations to the data\n",
    ")\n",
    "\n",
    "mnist_test = torchvision.datasets.MNIST(\n",
    "    'data',         # Directory where the dataset will be stored\n",
    "    train=False,    # Indicates this is the test dataset\n",
    "    download=True,  # Downloads the dataset if it is not already present\n",
    "    transform=transform  # Applies the specified transformations to the data\n",
    ")\n"
   ]
  },
  {
   "cell_type": "code",
   "execution_count": 52,
   "id": "6bdb7549-42e3-4039-bffa-f6c50992fc29",
   "metadata": {},
   "outputs": [],
   "source": [
    "# Data loaders for batching the training and test datasets\n",
    "train_loader = torch.utils.data.DataLoader(\n",
    "    mnist_train,     # The training dataset\n",
    "    shuffle=True,    # Shuffle the data at every epoch to ensure random sampling\n",
    "    batch_size=100   # Number of samples per batch\n",
    ")\n",
    "\n",
    "test_loader = torch.utils.data.DataLoader(\n",
    "    mnist_test,      # The test dataset\n",
    "    shuffle=True,     # Shuffle the data for random sampling during testing\n",
    "    batch_size=100    # Number of samples per batch\n",
    ")\n"
   ]
  },
  {
   "cell_type": "code",
   "execution_count": 53,
   "id": "76c7a33a-70ae-430a-925d-250bb7e37d7f",
   "metadata": {},
   "outputs": [],
   "source": [
    "# Define the LeNet5 model architecture\n",
    "class LeNet5(nn.Module):\n",
    "    def __init__(self):\n",
    "        super().__init__()  # Initialize the parent class (nn.Module)\n",
    "\n",
    "        # Define the first convolutional layer: \n",
    "        # 1 input channel (grayscale), 6 output channels, 5x5 kernel, stride of 1, and padding of 2\n",
    "        self.conv_layer1 = nn.Conv2d(1, 6, kernel_size=5, stride=1, padding=2)\n",
    "        self.activation1 = nn.Tanh()  # Activation function after first convolution\n",
    "        self.pool_layer1 = nn.AvgPool2d(kernel_size=2, stride=2)  # Average pooling layer\n",
    "\n",
    "        # Define the second convolutional layer: \n",
    "        # 6 input channels, 16 output channels, 5x5 kernel, stride of 1, and no padding\n",
    "        self.conv_layer2 = nn.Conv2d(6, 16, kernel_size=5, stride=1, padding=0)\n",
    "        self.activation2 = nn.Tanh()  # Activation function after second convolution\n",
    "        self.pool_layer2 = nn.AvgPool2d(kernel_size=2, stride=2)  # Average pooling layer\n",
    "\n",
    "        # Define the third convolutional layer: \n",
    "        # 16 input channels, 120 output channels, 5x5 kernel, and no padding\n",
    "        self.conv_layer3 = nn.Conv2d(16, 120, kernel_size=5, stride=1, padding=0)\n",
    "        self.activation3 = nn.Tanh()  # Activation function after third convolution\n",
    "\n",
    "        # Flatten the output for fully connected layers\n",
    "        self.flatten = nn.Flatten()\n",
    "        self.fc_layer1 = nn.Linear(120, 84)  # Fully connected layer from 120 to 84 neurons\n",
    "        self.activation4 = nn.Tanh()  # Activation function after the first fully connected layer\n",
    "        self.fc_layer2 = nn.Linear(84, 10)  # Final output layer: 84 neurons to 10 classes\n",
    "\n",
    "    def forward(self, x):\n",
    "        # Forward pass through the network\n",
    "        # Input size: 1x28x28, output size after conv_layer1: 6x28x28\n",
    "        x = self.activation1(self.conv_layer1(x))\n",
    "        # Input size: 6x28x28, output size after pool_layer1: 6x14x14\n",
    "        x = self.pool_layer1(x)\n",
    "        # Input size: 6x14x14, output size after conv_layer2: 16x10x10\n",
    "        x = self.activation2(self.conv_layer2(x))\n",
    "        # Input size: 16x10x10, output size after pool_layer2: 16x5x5\n",
    "        x = self.pool_layer2(x)\n",
    "        # Input size: 16x5x5, output size after conv_layer3: 120x1x1\n",
    "        x = self.activation3(self.conv_layer3(x))\n",
    "        # Flatten the output and pass through fully connected layers\n",
    "        x = self.activation4(self.fc_layer1(self.flatten(x)))  # Output after first fc layer\n",
    "        x = self.fc_layer2(x)  # Final output layer\n",
    "        return x  # Return the output logits\n"
   ]
  },
  {
   "cell_type": "code",
   "execution_count": 54,
   "id": "4c0ccb1d-10cf-4b49-a7b8-29f0fe5ace50",
   "metadata": {},
   "outputs": [],
   "source": [
    "# Instantiate the LeNet5 model\n",
    "lenet_model = LeNet5()  # Create an instance of the LeNet5 class, initializing the model architecture\n"
   ]
  },
  {
   "cell_type": "code",
   "execution_count": 55,
   "id": "e6c707f1-630b-40ff-83f0-811bcf3376b5",
   "metadata": {},
   "outputs": [],
   "source": [
    "# Instantiate the LeNet5 model\n",
    "lenet_model = LeNet5()  # Create an instance of the LeNet5 class\n",
    "\n",
    "# Initialize the Adam optimizer for model parameters\n",
    "optimizer = optim.Adam(lenet_model.parameters())  # Set up the Adam optimizer to update model weights during training\n",
    "\n",
    "# Define the loss function for multi-class classification\n",
    "loss_function = nn.CrossEntropyLoss()  # Use CrossEntropyLoss to compute the loss for multi-class classification problems\n",
    "\n",
    "# Set the number of training epochs\n",
    "num_epochs = 10  # Define how many times the entire training dataset will pass through the model during training\n"
   ]
  },
  {
   "cell_type": "code",
   "execution_count": 56,
   "id": "19dcf1cc-bdca-4a9f-b224-117b98ab36ec",
   "metadata": {},
   "outputs": [
    {
     "name": "stdout",
     "output_type": "stream",
     "text": [
      "Epoch 1: Loss 0.3236, Model Accuracy 96.19%\n",
      "Epoch 2: Loss 0.0956, Model Accuracy 97.58%\n",
      "Epoch 3: Loss 0.0646, Model Accuracy 97.88%\n",
      "Epoch 4: Loss 0.0507, Model Accuracy 98.36%\n",
      "Epoch 5: Loss 0.0391, Model Accuracy 98.26%\n",
      "Epoch 6: Loss 0.0337, Model Accuracy 98.14%\n",
      "Epoch 7: Loss 0.0287, Model Accuracy 98.32%\n",
      "Epoch 8: Loss 0.0240, Model Accuracy 98.51%\n",
      "Epoch 9: Loss 0.0224, Model Accuracy 98.35%\n",
      "Epoch 10: Loss 0.0185, Model Accuracy 98.49%\n"
     ]
    }
   ],
   "source": [
    "# Training loop for multiple epochs\n",
    "for epoch in range(1, num_epochs + 1):\n",
    "    lenet_model.train()  # Activate training mode for the model\n",
    "    total_loss = 0.0  # Initialize total loss for the epoch\n",
    "    \n",
    "    # Training Phase\n",
    "    for batch_data, batch_labels in train_loader:\n",
    "        # Forward pass: compute predictions for the current batch\n",
    "        predictions = lenet_model(batch_data)\n",
    "        \n",
    "        # Compute the loss using the predicted values and the true labels\n",
    "        loss = loss_function(predictions, batch_labels)\n",
    "        \n",
    "        # Reset gradients from the previous training step\n",
    "        optimizer.zero_grad()\n",
    "        \n",
    "        # Backward pass: compute gradients based on the loss\n",
    "        loss.backward()\n",
    "        \n",
    "        # Update model parameters using the optimizer\n",
    "        optimizer.step()\n",
    "        \n",
    "        # Accumulate the total loss for this epoch\n",
    "        total_loss += loss.item()\n",
    "\n",
    "    # Calculate the average loss for the epoch\n",
    "    average_loss = total_loss / len(train_loader)\n",
    "    \n",
    "    # Validation phase\n",
    "    lenet_model.eval()  # Set the model to evaluation mode (disables dropout, etc.)\n",
    "    accuracy = 0  # Initialize accuracy counter\n",
    "    total_samples = 0  # Initialize total sample counter\n",
    "\n",
    "    # Loop over mini-batches in the test set to evaluate model accuracy\n",
    "    for batch_data, batch_labels in test_loader:\n",
    "        predictions = lenet_model(batch_data)  # Forward pass for the test set\n",
    "        # Calculate the number of correct predictions\n",
    "        accuracy += (torch.argmax(predictions, 1) == batch_labels).float().sum()\n",
    "        total_samples += len(batch_labels)  # Count the total number of samples\n",
    "    \n",
    "    # Calculate overall accuracy for this epoch\n",
    "    accuracy = accuracy / total_samples\n",
    "    # Print epoch number, average loss, and model accuracy\n",
    "    print(\"Epoch %d: Loss %.4f, Model Accuracy %.2f%%\" % (epoch, average_loss, accuracy * 100))\n"
   ]
  },
  {
   "cell_type": "code",
   "execution_count": 57,
   "id": "51db8e03-8bf3-4746-b3b3-6b5c55fdf069",
   "metadata": {},
   "outputs": [
    {
     "name": "stdout",
     "output_type": "stream",
     "text": [
      "Overall Test Accuracy: 98.49%\n"
     ]
    }
   ],
   "source": [
    "lenet_model.eval()\n",
    "overall_accuracy = 0\n",
    "total_samples = 0\n",
    "\n",
    "with torch.no_grad():\n",
    "    for batch_data, batch_labels in test_loader:\n",
    "        predictions = lenet_model(batch_data)\n",
    "        overall_accuracy += (torch.argmax(predictions, 1) == batch_labels).float().sum()\n",
    "        total_samples += len(batch_labels)\n",
    "\n",
    "overall_accuracy = overall_accuracy / total_samples\n",
    "print(f\"Overall Test Accuracy: {overall_accuracy * 100:.2f}%\")"
   ]
  },
  {
   "cell_type": "code",
   "execution_count": 61,
   "id": "f4555e48-c11b-47ab-acc4-2fa675948b5c",
   "metadata": {},
   "outputs": [
    {
     "data": {
      "image/png": "[encoded data removed]",
      "text/plain": [
       "<Figure size 1400x600 with 6 Axes>"
      ]
     },
     "metadata": {},
     "output_type": "display_data"
    }
   ],
   "source": [
    "import matplotlib.pyplot as plt  # For plotting images\n",
    "import torch  # PyTorch for tensor operations and neural networks\n",
    "\n",
    "# Function to display model predictions on a sample of test data\n",
    "def display_predictions(lenet_model, test_loader, num_samples=6):\n",
    "    # Set the model to evaluation mode, turning off dropout, batch norm, etc.\n",
    "    lenet_model.eval()  \n",
    "    \n",
    "    # Fetch a batch of test images and their labels from the data loader\n",
    "    data_iter = iter(test_loader)\n",
    "    images, labels = next(data_iter)\n",
    "\n",
    "    # Disable gradient calculation to save memory and computations during inference\n",
    "    with torch.no_grad():\n",
    "        logits = lenet_model(images)  # Forward pass to get raw model predictions (logits)\n",
    "        predicted_classes = torch.argmax(logits, dim=1)  # Get predicted class indices by finding max logits\n",
    "\n",
    "    # Setup the plot grid to display images and their predictions\n",
    "    fig, axes = plt.subplots(2, num_samples // 2, figsize=(14, 6))\n",
    "    axes_flat = axes.flatten()  # Flatten the axes array for easy access to each subplot\n",
    "\n",
    "    # Loop through each sample to display its image and prediction\n",
    "    for idx in range(num_samples):\n",
    "        image = images[idx].cpu().numpy().squeeze()  # Move image to CPU, convert to NumPy, and remove channel dimension\n",
    "        axes_flat[idx].imshow(image, cmap='gray')  # Display image in grayscale\n",
    "        # Set the title with actual and predicted class labels\n",
    "        axes_flat[idx].set_title(f\"Actual: {labels[idx].item()} | Predicted: {predicted_classes[idx].item()}\")\n",
    "        axes_flat[idx].axis('off')  # Turn off axis for a cleaner view\n",
    "\n",
    "    plt.tight_layout()  # Automatically adjust spacing for the plot\n",
    "    plt.show()  # Render the plot\n",
    "\n",
    "# Call the function to visualize predictions from the model on test data\n",
    "display_predictions(lenet_model, test_loader)\n"
   ]
  },
  {
   "cell_type": "code",
   "execution_count": null,
   "id": "67037943-d36a-418a-b293-6677411e20f9",
   "metadata": {},
   "outputs": [],
   "source": []
  }
 ],
 "metadata": {
  "kernelspec": {
   "display_name": "Python 3 (ipykernel)",
   "language": "python",
   "name": "python3"
  },
  "language_info": {
   "codemirror_mode": {
    "name": "ipython",
    "version": 3
   },
   "file_extension": ".py",
   "mimetype": "text/x-python",
   "name": "python",
   "nbconvert_exporter": "python",
   "pygments_lexer": "ipython3",
   "version": "3.11.9"
  }
 },
 "nbformat": 4,
 "nbformat_minor": 5
}
